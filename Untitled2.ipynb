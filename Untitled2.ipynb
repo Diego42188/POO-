{
  "nbformat": 4,
  "nbformat_minor": 0,
  "metadata": {
    "colab": {
      "provenance": []
    },
    "kernelspec": {
      "name": "python3",
      "display_name": "Python 3"
    },
    "language_info": {
      "name": "python"
    }
  },
  "cells": [
    {
      "cell_type": "code",
      "execution_count": 11,
      "metadata": {
        "id": "TsClCcIvmYjH"
      },
      "outputs": [],
      "source": [
        "class Palafox():\n",
        "\n",
        "  def __init__(self):\n",
        "    print(\"creamos una clase madre\")\n",
        "\n",
        "  def adivina (self):\n",
        "    print(\"hola soy un alumno de la up\")\n",
        "\n",
        "  def hablar (self):\n",
        "    print(\"hola\")"
      ]
    },
    {
      "cell_type": "code",
      "source": [
        "palafox = Palafox()"
      ],
      "metadata": {
        "colab": {
          "base_uri": "https://localhost:8080/"
        },
        "id": "Hq4C0iOdprlk",
        "outputId": "2b2ba6a6-90c7-43e9-ddc5-7a919d6831c8"
      },
      "execution_count": 12,
      "outputs": [
        {
          "output_type": "stream",
          "name": "stdout",
          "text": [
            "creamos una clase madre\n"
          ]
        }
      ]
    },
    {
      "cell_type": "code",
      "source": [
        "palafox.adivina()"
      ],
      "metadata": {
        "colab": {
          "base_uri": "https://localhost:8080/"
        },
        "id": "6gKHAzQJpzqw",
        "outputId": "92ebf973-91a1-45d4-886e-b4eb8e9c6831"
      },
      "execution_count": 13,
      "outputs": [
        {
          "output_type": "stream",
          "name": "stdout",
          "text": [
            "hola soy un alumno de la up\n"
          ]
        }
      ]
    },
    {
      "cell_type": "code",
      "source": [
        "palafox.hablar()"
      ],
      "metadata": {
        "colab": {
          "base_uri": "https://localhost:8080/"
        },
        "id": "ufQabrZvqAxB",
        "outputId": "91736d9c-0574-40af-da6c-d13ffa37880c"
      },
      "execution_count": 14,
      "outputs": [
        {
          "output_type": "stream",
          "name": "stdout",
          "text": [
            "hola\n"
          ]
        }
      ]
    }
  ]
}