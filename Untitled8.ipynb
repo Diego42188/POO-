{
  "nbformat": 4,
  "nbformat_minor": 0,
  "metadata": {
    "colab": {
      "provenance": []
    },
    "kernelspec": {
      "name": "python3",
      "display_name": "Python 3"
    },
    "language_info": {
      "name": "python"
    }
  },
  "cells": [
    {
      "cell_type": "code",
      "execution_count": 1,
      "metadata": {
        "colab": {
          "base_uri": "https://localhost:8080/"
        },
        "id": "ZAdoY0mAEGnr",
        "outputId": "7062cce1-2781-4585-fe0c-5902e03aa5eb"
      },
      "outputs": [
        {
          "output_type": "stream",
          "name": "stdout",
          "text": [
            "Introduce la longitud del lado: 3\n",
            "Matriz:\n",
            "[[ 6  8  3  4]\n",
            " [ 9  6  7  8]\n",
            " [ 9 10  8  7]\n",
            " [ 8 46 15 16]]\n",
            "Determinante: -1846.0000000000011\n",
            "Perímetro: 9.0\n",
            "Área: 3.8971143170299736\n"
          ]
        }
      ],
      "source": [
        "import numpy as np\n",
        "\n",
        "class Formula:\n",
        "    def __init__(self, lado):\n",
        "        self.lado = lado\n",
        "\n",
        "class Determinant(Formula):\n",
        "    def calcular_determinante(self, lista):\n",
        "        matriz = np.array(lista).reshape(4, 4)\n",
        "        determinante = np.linalg.det(matriz)\n",
        "        print(\"Matriz:\")\n",
        "        print(matriz)\n",
        "        print(\"Determinante:\", determinante)\n",
        "\n",
        "class AreaPerimetro(Formula):\n",
        "    def calcular_perimetro(self):\n",
        "        perimetro = 3 * self.lado\n",
        "        print(\"Perímetro:\", perimetro)\n",
        "\n",
        "    def calcular_area(self):\n",
        "        area = (self.lado**2 * np.sqrt(3)) / 4\n",
        "        print(\"Área:\", area)\n",
        "\n",
        "side = float(input(\"Introduce la longitud del lado: \"))\n",
        "\n",
        "# Se calcula el determinante\n",
        "det = Determinant(side)\n",
        "det.calcular_determinante([6, 8, 3, 4, 9, 6, 7, 8, 9, 10, 8, 7, 8, 46, 15, 16])\n",
        "\n",
        "# Se calcula el perímetro y el área\n",
        "calculadora = AreaPerimetro(side)\n",
        "calculadora.calcular_perimetro()\n",
        "calculadora.calcular_area()"
      ]
    }
  ]
}