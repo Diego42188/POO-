{
  "nbformat": 4,
  "nbformat_minor": 0,
  "metadata": {
    "colab": {
      "provenance": []
    },
    "kernelspec": {
      "name": "python3",
      "display_name": "Python 3"
    },
    "language_info": {
      "name": "python"
    }
  },
  "cells": [
    {
      "cell_type": "code",
      "execution_count": 10,
      "metadata": {
        "colab": {
          "base_uri": "https://localhost:8080/"
        },
        "id": "lMPkQTtEsq9x",
        "outputId": "31dc7958-356a-4b60-8528-7343c3fece9e"
      },
      "outputs": [
        {
          "output_type": "stream",
          "name": "stdout",
          "text": [
            "Área del triángulo equilátero: 10.825317547305483\n",
            "Perímetro del triángulo equilátero: 15\n"
          ]
        }
      ],
      "source": [
        "import numpy as np\n",
        "\n",
        "class Formulas:\n",
        "    def __init__(self):\n",
        "        pass\n",
        "\n",
        "    def area_tri_equilatero(self, lado):\n",
        "        \"\"\"\n",
        "        Calcula el área de un triángulo equilátero dado su lado.\n",
        "        \"\"\"\n",
        "        return np.sqrt(3) / 4 * lado**2\n",
        "\n",
        "    def perimetro_tri_equilatero(self, lado):\n",
        "        \"\"\"\n",
        "        Calcula el perímetro de un triángulo equilátero dado su lado.\n",
        "        \"\"\"\n",
        "        return 3 * lado\n",
        "\n",
        "class TrianguloEquilatero(Formulas):\n",
        "    def __init__(self, lado):\n",
        "        super().__init__()\n",
        "        self.lado = lado\n",
        "\n",
        "    def obtener_area(self):\n",
        "        \"\"\"\n",
        "        Calcula el área del triángulo equilátero utilizando la fórmula heredada.\n",
        "        \"\"\"\n",
        "        return self.area_tri_equilatero(self.lado)\n",
        "\n",
        "    def obtener_perimetro(self):\n",
        "        \"\"\"\n",
        "        Calcula el perímetro del triángulo equilátero utilizando la fórmula heredada.\n",
        "        \"\"\"\n",
        "        return self.perimetro_tri_equilatero(self.lado)\n",
        "\n",
        "# Ejemplo de uso\n",
        "lado = 5\n",
        "triangulo = TrianguloEquilatero(lado)\n",
        "print(\"Área del triángulo equilátero:\", triangulo.obtener_area())\n",
        "print(\"Perímetro del triángulo equilátero:\", triangulo.obtener_perimetro())\n"
      ]
    },
    {
      "cell_type": "markdown",
      "source": [
        "Hice este código para calcular el área y el perímetro de un triángulo equilátero. y para calcular la raiz use NumPy"
      ],
      "metadata": {
        "id": "7TRWlBZ-uPe6"
      }
    },
    {
      "cell_type": "code",
      "source": [
        "import numpy as np\n",
        "\n",
        "class MatrizCuatroPorCuatro:\n",
        "    def __init__(self, lista_elementos):\n",
        "        self.matriz = np.array(lista_elementos).reshape(4, 4)\n",
        "\n",
        "class ListaMatrizCuatroPorCuatro(MatrizCuatroPorCuatro):\n",
        "    def __init__(self, lista_elementos):\n",
        "        super().__init__(lista_elementos)\n",
        "\n",
        "# Ejemplo de uso\n",
        "lista_elementos = [1, 2, 3, 4, 5, 6, 7, 8, 9, 10, 11, 12, 13, 14, 15, 16]\n",
        "matriz_lista = ListaMatrizCuatroPorCuatro(lista_elementos)\n",
        "print(\"Matriz de 4x4 generada a partir de la lista:\")\n",
        "print(matriz_lista.matriz)\n",
        "\n"
      ],
      "metadata": {
        "colab": {
          "base_uri": "https://localhost:8080/"
        },
        "id": "eOxcLuwjs-L4",
        "outputId": "187a0478-ca64-485c-81c3-249ce9701327"
      },
      "execution_count": 11,
      "outputs": [
        {
          "output_type": "stream",
          "name": "stdout",
          "text": [
            "Matriz de 4x4 generada a partir de la lista:\n",
            "[[ 1  2  3  4]\n",
            " [ 5  6  7  8]\n",
            " [ 9 10 11 12]\n",
            " [13 14 15 16]]\n"
          ]
        }
      ]
    },
    {
      "cell_type": "markdown",
      "source": [
        "Escribí este código para convertir una lista de 16 elementos en una matriz de tamaño 4x4.Yvolviendo a usar numpy y \"matriztransformadora\" hacerlo mas simple"
      ],
      "metadata": {
        "id": "3EaLjZZ8vJEO"
      }
    },
    {
      "cell_type": "code",
      "source": [
        "import numpy as np\n",
        "\n",
        "class Formulas:\n",
        "    def __init__(self):\n",
        "        pass\n",
        "\n",
        "    def determinante(self, matriz):\n",
        "        \"\"\"\n",
        "        Calcula el determinante de una matriz utilizando NumPy.\n",
        "        \"\"\"\n",
        "        return np.linalg.det(matriz)\n",
        "\n",
        "class CalculadoraDeterminante(Formulas):\n",
        "    def __init__(self):\n",
        "        super().__init__()\n",
        "\n",
        "# Ejemplo de uso\n",
        "matriz = np.array([[1, 2, 3], [4, 5, 6], [7, 8, 9]])\n",
        "calculadora = CalculadoraDeterminante()\n",
        "determinante = calculadora.determinante(matriz)\n",
        "print(\"Determinante de la matriz:\")\n",
        "print(determinante)\n"
      ],
      "metadata": {
        "colab": {
          "base_uri": "https://localhost:8080/"
        },
        "id": "2nL368_6tyiR",
        "outputId": "b17a1bba-2114-4d7f-ac05-4edeaeda363c"
      },
      "execution_count": 15,
      "outputs": [
        {
          "output_type": "stream",
          "name": "stdout",
          "text": [
            "Determinante de la matriz:\n",
            "0.0\n"
          ]
        }
      ]
    },
    {
      "cell_type": "markdown",
      "source": [
        "Simplemente usé la función np.linalg.det() que proporciona NumPy para calcular el determinante de manera eficiente."
      ],
      "metadata": {
        "id": "8Z9-_9tJvd4-"
      }
    }
  ]
}